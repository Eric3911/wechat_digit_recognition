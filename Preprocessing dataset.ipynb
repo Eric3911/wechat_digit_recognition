{
 "cells": [
  {
   "cell_type": "markdown",
   "metadata": {},
   "source": [
    "# 下载数据集\n",
    "\n",
    "数据集来自 http://www.ee.surrey.ac.uk/CVSSP/demos/chars74k/\n",
    "\n",
    "我们下载的是**EnglishFnt.tgz**，是印刷体数字加大小写字母。\n",
    "\n",
    "* [tqdm](https://github.com/tqdm/tqdm) 是一个进度条的库。\n",
    "* [requests](http://docs.python-requests.org/en/master/) 是一个对人类友好的 HTTP 库。"
   ]
  },
  {
   "cell_type": "code",
   "execution_count": 1,
   "metadata": {
    "collapsed": false
   },
   "outputs": [
    {
     "name": "stderr",
     "output_type": "stream",
     "text": [
      "48651KB [01:38, 492.01KB/s]                           \n"
     ]
    }
   ],
   "source": [
    "import requests\n",
    "from tqdm import tqdm\n",
    "import os\n",
    "\n",
    "fileurl = 'http://www.ee.surrey.ac.uk/CVSSP/demos/chars74k/EnglishFnt.tgz'\n",
    "filename = 'EnglishFnt.tgz'\n",
    "if not os.path.exists(filename):\n",
    "    r = requests.get(fileurl, stream=True)\n",
    "    with open(filename, 'wb') as f:\n",
    "        for chunk in tqdm(r.iter_content(1024), unit='KB', total=int(r.headers['Content-Length'])/1024): \n",
    "            f.write(chunk)"
   ]
  },
  {
   "cell_type": "markdown",
   "metadata": {},
   "source": [
    "# 解压数据集\n",
    "\n",
    "* [tarfile](https://docs.python.org/2/library/tarfile.html) 是 Python 自带的操作 tar 文件的库。\n",
    "* [shutil](https://docs.python.org/2/library/shutil.html) 是 Python 自带的高级文件操作库。\n"
   ]
  },
  {
   "cell_type": "code",
   "execution_count": 2,
   "metadata": {
    "collapsed": false
   },
   "outputs": [
    {
     "name": "stdout",
     "output_type": "stream",
     "text": [
      "loading\n"
     ]
    },
    {
     "name": "stderr",
     "output_type": "stream",
     "text": [
      "100%|██████████| 63055/63055 [00:11<00:00, 5350.48it/s]\n"
     ]
    }
   ],
   "source": [
    "import tarfile\n",
    "import shutil\n",
    "\n",
    "def mkdir(path):\n",
    "    if not os.path.exists(path):\n",
    "        os.makedirs(path)\n",
    "\n",
    "def rmdir(path):\n",
    "    if os.path.exists(path):\n",
    "        shutil.rmtree(path)\n",
    "\n",
    "with tarfile.open(filename, 'r') as tfile:\n",
    "    print 'loading'\n",
    "    members = tfile.getmembers()\n",
    "    for member in tqdm(members):\n",
    "        if tarfile.TarInfo.isdir(member):\n",
    "            mkdir(member.name)\n",
    "            continue\n",
    "        with open(member.name, 'wb') as f:\n",
    "            f.write(tfile.extractfile(member).read())"
   ]
  },
  {
   "cell_type": "markdown",
   "metadata": {},
   "source": [
    "# 分类数据集\n",
    "\n",
    "数据集有数字和大小写字母，但是我们只需要0123456789和非数字。\n",
    "\n",
    "因此将 A~Z,a~z 的图片移到 A 的文件夹，再将其他空文件夹删除。"
   ]
  },
  {
   "cell_type": "code",
   "execution_count": 3,
   "metadata": {
    "collapsed": false
   },
   "outputs": [
    {
     "name": "stderr",
     "output_type": "stream",
     "text": [
      "100%|██████████| 51/51 [00:03<00:00, 12.79it/s]\n"
     ]
    }
   ],
   "source": [
    "notnumdir = 'English/Fnt/Sample011/'\n",
    "for i in tqdm(range(12, 63)):\n",
    "    path = 'English/Fnt/Sample%03d/' % i\n",
    "    for filename in os.listdir(path):\n",
    "        os.rename(path+filename, notnumdir+filename)\n",
    "    os.rmdir(path)"
   ]
  },
  {
   "cell_type": "markdown",
   "metadata": {},
   "source": [
    "# 预处理数据集\n",
    "\n",
    "我们需要将这里的图片裁切为28*28，以便于输入到神经网络中。\n",
    "\n",
    "## 首先测试一张图"
   ]
  },
  {
   "cell_type": "code",
   "execution_count": 4,
   "metadata": {
    "collapsed": false
   },
   "outputs": [],
   "source": [
    "import cv2\n",
    "import numpy as np\n",
    "\n",
    "def resize(rawimg):  # resize img to 28*28\n",
    "    fx = 28.0 / rawimg.shape[0]\n",
    "    fy = 28.0 / rawimg.shape[1]\n",
    "    fx = fy = min(fx, fy)\n",
    "    img = cv2.resize(rawimg, None, fx=fx, fy=fy, interpolation=cv2.INTER_CUBIC)\n",
    "    outimg = np.ones((28, 28), dtype=np.uint8) * 255\n",
    "    w = img.shape[1]\n",
    "    h = img.shape[0]\n",
    "    x = (28 - w) / 2\n",
    "    y = (28 - h) / 2\n",
    "    outimg[y:y+h, x:x+w] = img\n",
    "    return outimg\n",
    "\n",
    "def convert(imgpath):\n",
    "    img = cv2.imread(imgpath)\n",
    "    gray = cv2.imread(imgpath, cv2.IMREAD_GRAYSCALE)\n",
    "    bw = cv2.adaptiveThreshold(gray, 255, cv2.ADAPTIVE_THRESH_GAUSSIAN_C, cv2.THRESH_BINARY_INV, 25, 25)\n",
    "    img2, ctrs, hier = cv2.findContours(bw.copy(), cv2.RETR_EXTERNAL, cv2.CHAIN_APPROX_SIMPLE)\n",
    "    rects = [cv2.boundingRect(ctr) for ctr in ctrs]\n",
    "    x, y, w, h = rects[-1]\n",
    "    roi = gray[y:y+h, x:x+w]\n",
    "    return resize(roi)"
   ]
  },
  {
   "cell_type": "code",
   "execution_count": 5,
   "metadata": {
    "collapsed": false
   },
   "outputs": [
    {
     "data": {
      "text/plain": [
       "<matplotlib.image.AxesImage at 0x1144f1d10>"
      ]
     },
     "execution_count": 5,
     "metadata": {},
     "output_type": "execute_result"
    },
    {
     "data": {
      "image/png": "[encoded data removed]",
      "text/plain": [
       "<matplotlib.figure.Figure at 0x112b51c10>"
      ]
     },
     "metadata": {},
     "output_type": "display_data"
    }
   ],
   "source": [
    "import matplotlib.pyplot as plt\n",
    "\n",
    "%matplotlib inline\n",
    "\n",
    "imgpath = 'English/Fnt/Sample001/img001-00001.png'\n",
    "img = cv2.imread(imgpath)\n",
    "rsz = convert(imgpath)\n",
    "\n",
    "plt.subplot(1, 2, 1)\n",
    "plt.imshow(img, cmap='gray')\n",
    "plt.subplot(1, 2, 2)\n",
    "plt.imshow(rsz, cmap='gray')"
   ]
  },
  {
   "cell_type": "markdown",
   "metadata": {},
   "source": [
    "## 预处理所有图片"
   ]
  },
  {
   "cell_type": "code",
   "execution_count": 6,
   "metadata": {
    "collapsed": false
   },
   "outputs": [
    {
     "name": "stderr",
     "output_type": "stream",
     "text": [
      "train/0/: 100%|██████████| 1016/1016 [00:00<00:00, 1150.59it/s]\n",
      "train/1/: 100%|██████████| 1016/1016 [00:00<00:00, 1232.67it/s]\n",
      "train/2/: 100%|██████████| 1016/1016 [00:00<00:00, 1201.22it/s]\n",
      "train/3/: 100%|██████████| 1016/1016 [00:00<00:00, 1186.00it/s]\n",
      "train/4/: 100%|██████████| 1016/1016 [00:00<00:00, 1176.58it/s]\n",
      "train/5/: 100%|██████████| 1016/1016 [00:01<00:00, 936.41it/s]\n",
      "train/6/: 100%|██████████| 1016/1016 [00:01<00:00, 897.20it/s]\n",
      "train/7/: 100%|██████████| 1016/1016 [00:01<00:00, 997.21it/s]\n",
      "train/8/: 100%|██████████| 1016/1016 [00:01<00:00, 973.86it/s]\n",
      "train/9/: 100%|██████████| 1016/1016 [00:01<00:00, 961.00it/s]\n",
      "train/10/: 100%|██████████| 52832/52832 [00:52<00:00, 999.49it/s] \n"
     ]
    }
   ],
   "source": [
    "rmdir('train')\n",
    "\n",
    "for i in range(11):\n",
    "    path = 'English/Fnt/Sample%03d/' % (i+1)\n",
    "    trainpath = 'train/%d/' % i\n",
    "    mkdir(trainpath)\n",
    "    for filename in tqdm(os.listdir(path), desc=trainpath):\n",
    "        try:\n",
    "            cv2.imwrite(trainpath + filename, convert(path + filename))\n",
    "        except:\n",
    "            pass"
   ]
  },
  {
   "cell_type": "markdown",
   "metadata": {},
   "source": [
    "# 分离出验证数据集\n",
    "\n",
    "http://scikit-learn.org/stable/modules/generated/sklearn.model_selection.train_test_split.html"
   ]
  },
  {
   "cell_type": "code",
   "execution_count": 11,
   "metadata": {
    "collapsed": false
   },
   "outputs": [],
   "source": [
    "from sklearn.model_selection import train_test_split\n",
    "for i in range(11):\n",
    "    trainpath = 'train/%d/' % i\n",
    "    validpath = 'valid/%d/' % i\n",
    "    mkdir(validpath)\n",
    "    imgs = os.listdir(trainpath)\n",
    "    trainimgs, validimgs = train_test_split(imgs, test_size=0.1)\n",
    "    for filename in validimgs:\n",
    "        os.rename(trainpath+filename, validpath+filename)"
   ]
  },
  {
   "cell_type": "code",
   "execution_count": null,
   "metadata": {
    "collapsed": true
   },
   "outputs": [],
   "source": []
  }
 ],
 "metadata": {
  "kernelspec": {
   "display_name": "Python 2",
   "language": "python",
   "name": "python2"
  },
  "language_info": {
   "codemirror_mode": {
    "name": "ipython",
    "version": 2
   },
   "file_extension": ".py",
   "mimetype": "text/x-python",
   "name": "python",
   "nbconvert_exporter": "python",
   "pygments_lexer": "ipython2",
   "version": "2.7.12"
  }
 },
 "nbformat": 4,
 "nbformat_minor": 1
}
